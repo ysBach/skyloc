{
 "cells": [
  {
   "cell_type": "code",
   "execution_count": 1,
   "id": "b33ac50f-bd0c-468e-900d-a774c581bead",
   "metadata": {},
   "outputs": [],
   "source": [
    "%load_ext viztracer\n",
    "import pandas as pd\n",
    "from astropy.wcs import WCS\n",
    "\n",
    "WEEKID = \"2025W21_1B\"\n",
    "db = (\n",
    "    pd.read_parquet(f\"FITS_DB/{WEEKID}.parq\")\n",
    "    .dropna(axis='columns', how=\"all\")\n",
    "    .drop(columns=[\"history\", \"OMEGA_MEDIAN\", \"OMEGA_STDDEV\", \"PSF_OMEGA\"])\n",
    ")"
   ]
  },
  {
   "cell_type": "code",
   "execution_count": 2,
   "id": "1998b7e4-8dc9-4d57-9471-f5dbd348e75e",
   "metadata": {},
   "outputs": [
    {
     "data": {
      "text/plain": [
       "filename    level2_2025W21_1B_0001_1D1_spx_l2b-v4-2025-140...\n",
       "DETECTOR                                                    1\n",
       "OBSID                                       2025W21_1B_0001_1\n",
       "EXPIDN                                        202521102000111\n",
       "DATE                                  2025-05-21T00:50:15.870\n",
       "                                  ...                        \n",
       "MJD-BEG                                          60814.002242\n",
       "DATE-END                              2025-05-19T00:05:08.788\n",
       "MJD-END                                          60814.003574\n",
       "XPOSURE                                              113.5826\n",
       "TELAPSE                                              118.1873\n",
       "Name: 0, Length: 109, dtype: object"
      ]
     },
     "execution_count": 2,
     "metadata": {},
     "output_type": "execute_result"
    }
   ],
   "source": [
    "db.iloc[0]"
   ]
  },
  {
   "cell_type": "code",
   "execution_count": 5,
   "id": "60edfe45-dd5f-4df1-a3f2-723383a5232d",
   "metadata": {},
   "outputs": [
    {
     "data": {
      "application/vnd.jupyter.widget-view+json": {
       "model_id": "d142acc771c04237a3e73beb0f2df34b",
       "version_major": 2,
       "version_minor": 0
      },
      "text/plain": [
       "Button(description='VizTracer Report', style=ButtonStyle())"
      ]
     },
     "metadata": {},
     "output_type": "display_data"
    }
   ],
   "source": [
    "%%viztracer -p 8888\n",
    "WCS(db.iloc[0].dropna())"
   ]
  },
  {
   "cell_type": "code",
   "execution_count": 8,
   "id": "ad579703-d257-410b-b42a-91d1ea0b6b7e",
   "metadata": {},
   "outputs": [
    {
     "name": "stdout",
     "output_type": "stream",
     "text": [
      "Error! Port 9002 is already in use, try another port with \"--port\"\n"
     ]
    }
   ],
   "source": [
    "!vizviewer -p 9002 viztracer_report.json"
   ]
  },
  {
   "cell_type": "code",
   "execution_count": null,
   "id": "7ba6cfb5-544f-47a4-9587-07f6b03b0498",
   "metadata": {},
   "outputs": [],
   "source": []
  }
 ],
 "metadata": {
  "kernelspec": {
   "display_name": "Python 3 (ipykernel)",
   "language": "python",
   "name": "python3"
  },
  "language_info": {
   "codemirror_mode": {
    "name": "ipython",
    "version": 3
   },
   "file_extension": ".py",
   "mimetype": "text/x-python",
   "name": "python",
   "nbconvert_exporter": "python",
   "pygments_lexer": "ipython3",
   "version": "3.11.11"
  }
 },
 "nbformat": 4,
 "nbformat_minor": 5
}
